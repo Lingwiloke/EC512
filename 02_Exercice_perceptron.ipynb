{
 "cells": [
  {
   "cell_type": "markdown",
   "id": "90a9aa6d-0498-4090-aff0-36dbcacb46a4",
   "metadata": {
    "id": "90a9aa6d-0498-4090-aff0-36dbcacb46a4"
   },
   "source": [
    "# Visualiser des données\n",
    "\n",
    "Une étape importante dans tout effort d'analyse ou de modélisation des données consiste à comprendre comment les variables sont distribuées.\n",
    "\n",
    "Les techniques de visualisation des distributions peuvent fournir des réponses rapides à de nombreuses questions importantes. Quelle est l'étendue des observations ? Quelle est leur tendance centrale ? Sont-elles fortement asymétriques dans une direction ? Existe-t-il des preuves de bimodalité ? Y a-t-il des valeurs aberrantes significatives ? Les réponses à ces questions varient-elles selon des sous-ensembles définis par d'autres variables ?"
   ]
  },
  {
   "cell_type": "markdown",
   "id": "277f7ffb-1e6b-48dc-9271-159a6492038c",
   "metadata": {
    "id": "277f7ffb-1e6b-48dc-9271-159a6492038c"
   },
   "source": [
    "Dans la suite de ce document nous allons utiliser différentes bibliothèques pour visualiser et gérer les jeux de données:\n",
    "\n",
    " - *Matplotlib* [gallerie](https://matplotlib.org/stable/gallery/index.html)\n",
    "\n",
    "    Bibliothèque très complète pour le tracé de graphiques\n",
    "\n",
    " - *Seaborn* [gallerie](https://seaborn.pydata.org/examples/index.html)\n",
    "\n",
    "   Couche d'abstraction au-dessus de Matplotlib, elle offre une interface vraiment pratique pour créer une large gamme de types de graphiques, utiles en statistiques.\n",
    "    Cependant, cela ne compromet pas la puissance. Seaborn permet d'accéder aux objets Matplotlib sous-jacents, permettant ainsi un contrôle total.\n",
    "\n",
    "   \n",
    " - *Pandas*\n",
    "\n",
    "   Pour gérer des jeux de données (importation, manipulation, ...)"
   ]
  },
  {
   "cell_type": "code",
   "execution_count": null,
   "id": "ca4321cf-f9de-4eee-a558-c28e8760c478",
   "metadata": {
    "id": "ca4321cf-f9de-4eee-a558-c28e8760c478"
   },
   "outputs": [],
   "source": [
    "import matplotlib as mpl\n",
    "from matplotlib import pyplot as plt\n",
    "\n",
    "import seaborn as sb\n",
    "import pandas as pd\n",
    "\n",
    "# utilisé ici pour numériser des catégories (encodage)\n",
    "from sklearn import preprocessing"
   ]
  },
  {
   "cell_type": "markdown",
   "id": "02caee38-5bb0-4646-9add-c147581d9e97",
   "metadata": {
    "id": "02caee38-5bb0-4646-9add-c147581d9e97"
   },
   "source": [
    "# Etape préliminaire\n",
    "\n",
    "Comprendre les données est l'une des étapes les plus importantes de l'analyse des données. Nous nous proposons de d'utiliser différentes methodes de la bibliothèque Pandas pour comprendre nos données."
   ]
  },
  {
   "cell_type": "markdown",
   "id": "cbe0c42e-fd52-448a-bea1-039c44ee3abd",
   "metadata": {
    "id": "cbe0c42e-fd52-448a-bea1-039c44ee3abd"
   },
   "source": [
    "Le but n'étant pas de voir ici, les différentes manières de cherger un jeu de données depuis différents types de fichiers (bases de données, fichier texte, csv, excel ...), nous utiliserons de jeux de données pré-établis.\n",
    "Si on cherche à charger un jeu de données spécifiques les [fonctionnalités d'entrée sortie (Input/output)](https://pandas.pydata.org/docs/reference/io.html) de *Pandas* sont utiles, par exemple:\n",
    "- pandas.read_csv\n",
    "- pandas.read_excel\n",
    "- pandas read_table\n",
    "- ...\n",
    "\n",
    "Réferez vous à la documentation de ces fonction d'entrée/sortie.\n"
   ]
  },
  {
   "cell_type": "markdown",
   "id": "b365a4cf-c1bf-4bbb-9e2a-42cfe7ad7522",
   "metadata": {
    "id": "b365a4cf-c1bf-4bbb-9e2a-42cfe7ad7522"
   },
   "source": [
    "# Nous allons analyser des pingouins\n",
    "\n",
    "<div style=\"align: left; text-align:center;\">\n",
    "    <img src=\"https://github.com/Lingwiloke/EC512/blob/main/pingouins.png?raw=1\" alt=\"Alternative text\" width=\"1080px\" height=\"480px\"/>\n",
    "    <div class=\"caption\">Figure 1 : Données mesurées</div>\n",
    "</div>"
   ]
  },
  {
   "cell_type": "code",
   "execution_count": null,
   "id": "bcdcd38d-1346-4603-9a34-bffb858cedb4",
   "metadata": {
    "id": "bcdcd38d-1346-4603-9a34-bffb858cedb4",
    "outputId": "38521474-a451-4f91-8e5b-16d2a4b15a1c"
   },
   "outputs": [],
   "source": [
    "# nous chargeons un jeu de données\n",
    "penguins = sb.load_dataset(\"penguins\")\n",
    "# nous pouvons visualiser ces données\n",
    "penguins"
   ]
  },
  {
   "cell_type": "code",
   "execution_count": null,
   "id": "d8b8d249-a968-4efa-b038-a59ca1d4f2f2",
   "metadata": {
    "id": "d8b8d249-a968-4efa-b038-a59ca1d4f2f2",
    "outputId": "111d7b57-e412-49d4-ae72-ee0dacf465d4"
   },
   "outputs": [],
   "source": [
    "# taille\n",
    "penguins.shape"
   ]
  },
  {
   "cell_type": "code",
   "execution_count": null,
   "id": "dd9c6705-56b9-40f8-9c86-168dc70c7706",
   "metadata": {
    "id": "dd9c6705-56b9-40f8-9c86-168dc70c7706",
    "outputId": "f650ad8e-2c38-457e-aa46-6508a4084584"
   },
   "outputs": [],
   "source": [
    "# recherche de données manquantes (fonction isnull)\n",
    "penguins.isnull().sum()"
   ]
  },
  {
   "cell_type": "markdown",
   "id": "3afd29e2-071f-438d-a507-9abce6525fc6",
   "metadata": {
    "id": "3afd29e2-071f-438d-a507-9abce6525fc6"
   },
   "source": [
    "Les dataframes *Pandas* sont des dictionnaires. Chaque colonne est référencée pas sa clé et chaque ligne est référencée par son index.\n",
    "\n",
    "Nous pouvons donc accéder aux différents champs affichés ci dessus:"
   ]
  },
  {
   "cell_type": "code",
   "execution_count": null,
   "id": "2637c8b1-c4b5-4c7f-8888-0f934007cb46",
   "metadata": {
    "id": "2637c8b1-c4b5-4c7f-8888-0f934007cb46",
    "outputId": "5b0eb6c4-c778-4a76-cdb7-d68f9c0f0de5"
   },
   "outputs": [],
   "source": [
    "# clés\n",
    "penguins.keys()"
   ]
  },
  {
   "cell_type": "code",
   "execution_count": null,
   "id": "dafe2d2d-622d-4734-904e-1d3f7db0ef16",
   "metadata": {
    "id": "dafe2d2d-622d-4734-904e-1d3f7db0ef16",
    "outputId": "cbb7fd3e-14b3-444f-d22a-2da90540673c"
   },
   "outputs": [],
   "source": [
    "# valeurs de l'index\n",
    "penguins.index"
   ]
  },
  {
   "cell_type": "code",
   "execution_count": null,
   "id": "13bf64e5-49dc-426c-9cb3-f05b5239c35e",
   "metadata": {
    "id": "13bf64e5-49dc-426c-9cb3-f05b5239c35e",
    "outputId": "82c223d1-004a-476a-a3d3-0ec8481a3354"
   },
   "outputs": [],
   "source": [
    "# colonne 'ile'\n",
    "penguins['island']"
   ]
  },
  {
   "cell_type": "code",
   "execution_count": null,
   "id": "97a12c0d-4ced-452b-b2e4-cb55be83a39c",
   "metadata": {
    "id": "97a12c0d-4ced-452b-b2e4-cb55be83a39c",
    "outputId": "912dd731-5a4d-40a7-de29-b958106891ce"
   },
   "outputs": [],
   "source": [
    "# ligne 12\n",
    "penguins.loc[12]"
   ]
  },
  {
   "cell_type": "code",
   "execution_count": null,
   "id": "596b041f-40c6-4e99-9a63-e3fa8ee3e4ff",
   "metadata": {
    "id": "596b041f-40c6-4e99-9a63-e3fa8ee3e4ff",
    "outputId": "602c821a-df8b-448c-978b-7d76aa99f70b"
   },
   "outputs": [],
   "source": [
    "# combien avons nous d'espèces de pingouins différentes ?\n",
    "penguins['species'].unique()"
   ]
  },
  {
   "cell_type": "code",
   "execution_count": null,
   "id": "66f0266c-7e15-4856-8ccd-e27250f95b40",
   "metadata": {
    "id": "66f0266c-7e15-4856-8ccd-e27250f95b40",
    "outputId": "a03501ec-d40f-4d99-aed1-b955fc5c8fdf"
   },
   "outputs": [],
   "source": [
    "# Quelle est la répartition des obserations par espèces ?\n",
    "Species=penguins.species.value_counts()\n",
    "Species.plot(kind='pie',autopct=\"%.2f%%\");"
   ]
  },
  {
   "cell_type": "code",
   "execution_count": null,
   "id": "7a618b6c-6b48-430c-a50e-e88e281e5284",
   "metadata": {
    "id": "7a618b6c-6b48-430c-a50e-e88e281e5284",
    "outputId": "722021dd-94c9-40c6-d853-7d1a019d70a1"
   },
   "outputs": [],
   "source": [
    "# Quelques statistiques (arrondies à une decimale)\n",
    "penguins.describe().round(1)"
   ]
  },
  {
   "cell_type": "markdown",
   "id": "d9f4aac9-be43-4570-9d73-c59c9e75e256",
   "metadata": {
    "id": "d9f4aac9-be43-4570-9d73-c59c9e75e256"
   },
   "source": [
    "# Nuage de points\n",
    "\n",
    "Un tracé en nuage de points peut être utilisé pour afficher la relation entre différentes variables. Intéressons nous au nuage de points des longueurs et profondeurs des becs selon les espèces de manchots.\n",
    "\n",
    "L'option *hue=\"nom_de_la_colonne\"* des fonctions de tracées de *Seaborn* permets de colorier nos données en fonction des éléments uniques de la colonne choisie et ajoute une légende."
   ]
  },
  {
   "cell_type": "code",
   "execution_count": null,
   "id": "8395d23c-c5e8-4976-ae71-c37767c66ad7",
   "metadata": {
    "id": "8395d23c-c5e8-4976-ae71-c37767c66ad7"
   },
   "outputs": [],
   "source": [
    "## Nous pouvons fixer les dimensions des différents graphiques que nous allons réaliser avec Seaborn\n",
    "sb.set_theme()\n",
    "sb.set(rc = {\"figure.figsize\": (12,8), \"figure.dpi\" : 100})"
   ]
  },
  {
   "cell_type": "code",
   "execution_count": null,
   "id": "a49a26e4-8417-47b2-be8c-27af75ed2f26",
   "metadata": {
    "id": "a49a26e4-8417-47b2-be8c-27af75ed2f26",
    "outputId": "8c07a4b0-4e7d-4faa-81ff-26ea9e720d47"
   },
   "outputs": [],
   "source": [
    "## avec seaborn\n",
    "g = sb.scatterplot(x=\"bill_length_mm\", y=\"bill_depth_mm\", data=penguins, hue=\"species\")\n",
    "## ajout de titres et d'axes\n",
    "g.get_legend().set_title(\"Espèces de pingouin\") # modification du titre de la légende\n",
    "plt.title(\"Longeur du bec en fonction de la hauteur\")\n",
    "plt.xlabel('Longueur du bec (mm)')\n",
    "plt.ylabel('Hauteur du bec (mm)');"
   ]
  },
  {
   "cell_type": "markdown",
   "id": "38dbf221-2c34-434a-9450-6e0339970f4e",
   "metadata": {
    "id": "38dbf221-2c34-434a-9450-6e0339970f4e"
   },
   "source": [
    "Nous voyons ici que les tailles de bec sont différenciantes pour les différentes espèces de pingouins. Si nous devions proposer un algorithme de classification des différentes espèces cette métrique serait une bonne base de départ."
   ]
  },
  {
   "cell_type": "markdown",
   "id": "497e5044-5ce2-4b15-8a6c-0865ec66f302",
   "metadata": {
    "id": "497e5044-5ce2-4b15-8a6c-0865ec66f302"
   },
   "source": [
    "# Tracé d'histogrammes monodimensionnels\n",
    "\n",
    "L'approche la plus fréquente pour visualiser une distribution est l'histogramme. Un histogramme est un graphique à barres permettant de représenter la répartition empirique d'une variable aléatoire ou d'une série statistique en la représentant avec des colonnes correspondant chacune à une classe et dont l'aire est proportionnelle à l'effectif de la classe."
   ]
  },
  {
   "cell_type": "code",
   "execution_count": null,
   "id": "8cc6b800-5592-4f2e-89f0-0e9a8407dd1e",
   "metadata": {
    "id": "8cc6b800-5592-4f2e-89f0-0e9a8407dd1e",
    "outputId": "b9d698a8-ac2e-49ec-d260-8fd2deea7e85"
   },
   "outputs": [],
   "source": [
    "sb.histplot(x =\"flipper_length_mm\", data=penguins)\n",
    "plt.title(\"Longueur des nageoires, toutes espèces confondues\")\n",
    "plt.xlabel('Longueur des nageoires (mm)')\n",
    "plt.ylabel('Effectif');"
   ]
  },
  {
   "cell_type": "markdown",
   "id": "2d77fb52-cff6-43b7-9d9e-3e24de1871cc",
   "metadata": {
    "id": "2d77fb52-cff6-43b7-9d9e-3e24de1871cc"
   },
   "source": [
    "L'histogramme ci-dessus affiche le nombre d'observations (effectif) qui se situent dans chaque intervalle. Nous pouvons modifier la taille de ces intervalles (classes) avec l'option *binwidth*."
   ]
  },
  {
   "cell_type": "code",
   "execution_count": null,
   "id": "95174dfc-d408-462c-bc2b-4b1a912d308f",
   "metadata": {
    "id": "95174dfc-d408-462c-bc2b-4b1a912d308f",
    "outputId": "cbbf4a92-d181-4c8e-ee02-ca2937b7593c"
   },
   "outputs": [],
   "source": [
    "# intervalle de taille 2\n",
    "sb.histplot(x = \"flipper_length_mm\", data = penguins, binwidth=2)\n",
    "plt.title(\"Longueur des nageoires, toutes espèces confondues\")\n",
    "plt.xlabel('Longueur des nageoires (mm)')\n",
    "plt.ylabel('Effectif');"
   ]
  },
  {
   "cell_type": "markdown",
   "id": "3f753e9b-2e02-4db6-97b1-40aea89c7733",
   "metadata": {
    "id": "3f753e9b-2e02-4db6-97b1-40aea89c7733"
   },
   "source": [
    "L'analyse de l'histogramme peut nous laisser supposer que nous avons deux variable aléatoires centrées sur différentes valeurs (environ 190 et 215).\n",
    "\n",
    "Comme nous savons que nous avons plusieurs espèces de pingouins nous pouvons également tracer les histogrammes pas espèce. Nous réutilisons ici l'option *hue*"
   ]
  },
  {
   "cell_type": "code",
   "execution_count": null,
   "id": "cebcd7f0-4777-4c60-84da-c22ab91abd29",
   "metadata": {
    "id": "cebcd7f0-4777-4c60-84da-c22ab91abd29",
    "outputId": "e5a573f0-6820-4867-d26a-081ae1edc86d"
   },
   "outputs": [],
   "source": [
    "g = sb.histplot(x = \"flipper_length_mm\", data = penguins, binwidth=2, kde=False, hue = \"species\")\n",
    "g.get_legend().set_title(\"Espèces de pingouin\")\n",
    "plt.title(\"Longueur des nageoires par espèces\")\n",
    "plt.xlabel('Longueur des nageoires (mm)')\n",
    "plt.ylabel('Effectif');"
   ]
  },
  {
   "cell_type": "markdown",
   "id": "903a8b69-8680-4415-ae81-9e05be7cf76a",
   "metadata": {
    "id": "903a8b69-8680-4415-ae81-9e05be7cf76a"
   },
   "source": [
    "# Relations entre les données (*pairplot*)\n",
    "\n",
    "Précédement nous avons tracé les Nuages de points et les histogrammes de certaine colonnes de notre jeu de données. Si nous souhaitons analyser les relations des différentes données entre elle il est fastidieux de reproduire les étapes précédentes pour chaque variables.\n",
    "\n",
    "Nous pouvons utiliser la méthode *pairplot* pour tracer les relations entre les paires de variables. Cette fonction nous permets d'afficher des graphiques croisés pour chaque variable numérique du jeu de données."
   ]
  },
  {
   "cell_type": "code",
   "execution_count": null,
   "id": "463229c3-ddbc-4708-8b6f-b81280bb79b7",
   "metadata": {
    "id": "463229c3-ddbc-4708-8b6f-b81280bb79b7",
    "outputId": "79040106-0939-42ae-bbf5-fd5955a2314a"
   },
   "outputs": [],
   "source": [
    "sb.pairplot(data=penguins, hue = \"species\", height=3);\n"
   ]
  },
  {
   "cell_type": "markdown",
   "id": "71432c97-9bc8-4e45-9f01-c9f4b580d06e",
   "metadata": {
    "id": "71432c97-9bc8-4e45-9f01-c9f4b580d06e"
   },
   "source": [
    "# Nos variables sont elles correlées ?\n",
    "\n",
    "Inspecter la corrélation entre les variables est important pour identifier les caractéristiques potentielles que nous pouvons utiliser pour une analyse plus approfondie et, par la suite, pour la création de modèles.\n",
    "\n",
    "La methode *corr* de *Pandas* permets de calculer la corrélation entre différentes variables d'un jeu de données.\n",
    "\n",
    "Cette methode nécessite de convertir les données non numériques en entrées numériques (encodage de ces champs)\n",
    "\n"
   ]
  },
  {
   "cell_type": "code",
   "execution_count": null,
   "id": "256a9803-a483-4076-9932-8ba3f3409a3d",
   "metadata": {
    "id": "256a9803-a483-4076-9932-8ba3f3409a3d"
   },
   "outputs": [],
   "source": [
    "# Encodeur de données textuelles en entiers\n",
    "label_encoder = preprocessing.LabelEncoder()\n",
    "\n",
    "# Encodage (fonction fit_transform)\n",
    "penguins['species'] = label_encoder.fit_transform(penguins['species'])\n",
    "penguins[\"island\"] = label_encoder.fit_transform(penguins[\"island\"])\n",
    "penguins[\"sex\"] = label_encoder.fit_transform(penguins[\"sex\"])"
   ]
  },
  {
   "cell_type": "code",
   "execution_count": null,
   "id": "638c689c-e6fe-4f95-9666-fe92e893d945",
   "metadata": {
    "id": "638c689c-e6fe-4f95-9666-fe92e893d945"
   },
   "outputs": [],
   "source": [
    "corr = penguins.corr()"
   ]
  },
  {
   "cell_type": "markdown",
   "id": "2e6d1004-0379-4661-955f-b8043e2e16b8",
   "metadata": {
    "id": "2e6d1004-0379-4661-955f-b8043e2e16b8"
   },
   "source": [
    "La fonction *heatmap* de *Seaborne* permets de tracer une matrice de corrélation."
   ]
  },
  {
   "cell_type": "code",
   "execution_count": null,
   "id": "b9018386-ead8-4419-a897-7bc7b3c499f9",
   "metadata": {
    "id": "b9018386-ead8-4419-a897-7bc7b3c499f9",
    "outputId": "ba857506-a5e8-4cfa-adbe-9c6cd1ac408e"
   },
   "outputs": [],
   "source": [
    "sb.heatmap(corr, xticklabels=corr.columns.values, yticklabels=corr.columns.values, annot = True, cmap= 'crest');"
   ]
  },
  {
   "cell_type": "markdown",
   "id": "0706d131-5d1f-44dd-8b53-db8daa1b93da",
   "metadata": {
    "id": "0706d131-5d1f-44dd-8b53-db8daa1b93da"
   },
   "source": [
    "Les variables (poids, longueur de nageoire), (espèce, longueur de nageoire) et (espèce, poids) sont les plus fortement corréllées, respectivement 0,87 0,85 et 0,75."
   ]
  },
  {
   "cell_type": "markdown",
   "id": "775a4517-e82a-45e6-8234-82bb6fe51a01",
   "metadata": {
    "id": "775a4517-e82a-45e6-8234-82bb6fe51a01"
   },
   "source": [
    "# Ressources pour aller plus loin\n",
    "\n",
    "Manuel d'analyse et de visualisation de données avec python ([neuraldatascience](https://neuraldatascience.io/intro.html))\n",
    "\n",
    "Beaucoup de notebook, de jeux de données et d'exemples pour l'IA et le Machine Learning ([kaggle](https://www.kaggle.com/))\n",
    "\n",
    "Les pingouins analysés autrement [pingu1](https://www.kaggle.com/code/parulpandey/penguin-dataset-the-new-iris), [pingu2](https://www.kaggle.com/code/tirendazacademy/penguin-dataset-data-visualization-with-seaborn)\n",
    "\n",
    "Autres bibliothèques de [visualization](https://makemeanalyst.com/top-5-python-libraries-for-data-visualization/)"
   ]
  }
 ],
 "metadata": {
  "colab": {
   "provenance": [],
   "toc_visible": true
  },
  "kernelspec": {
   "display_name": "MC2_Python",
   "language": "python",
   "name": "python3"
  },
  "language_info": {
   "codemirror_mode": {
    "name": "ipython",
    "version": 3
   },
   "file_extension": ".py",
   "mimetype": "text/x-python",
   "name": "python",
   "nbconvert_exporter": "python",
   "pygments_lexer": "ipython3",
   "version": "3.11.0"
  }
 },
 "nbformat": 4,
 "nbformat_minor": 5
}
